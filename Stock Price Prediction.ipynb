{
 "cells": [
  {
   "cell_type": "code",
   "execution_count": 36,
   "metadata": {},
   "outputs": [],
   "source": [
    "# Source- https://www.youtube.com/watch?v=PujYNY6y8hY\n",
    "# Import all the libraries\n",
    "# For data manipulation\n",
    "import numpy as np\n",
    "import pandas as pd\n",
    "\n",
    "# To plot\n",
    "import matplotlib.pyplot as plt\n",
    "#plt.style.use('seaborn-darkgrid')\n",
    "\n",
    "# To ignore warnings\n",
    "import warnings\n",
    "warnings.filterwarnings('ignore')\n",
    "\n",
    "# Machine learning\n",
    "from sklearn.ensemble import RandomForestRegressor\n",
    "from sklearn.linear_model import LinearRegression\n",
    "\n",
    "# Getting live Data\n",
    "import yfinance as yf"
   ]
  },
  {
   "cell_type": "code",
   "execution_count": 37,
   "metadata": {},
   "outputs": [
    {
     "name": "stderr",
     "output_type": "stream",
     "text": [
      "[*********************100%%**********************]  1 of 1 completed\n"
     ]
    },
    {
     "data": {
      "text/html": [
       "<div>\n",
       "<style scoped>\n",
       "    .dataframe tbody tr th:only-of-type {\n",
       "        vertical-align: middle;\n",
       "    }\n",
       "\n",
       "    .dataframe tbody tr th {\n",
       "        vertical-align: top;\n",
       "    }\n",
       "\n",
       "    .dataframe thead th {\n",
       "        text-align: right;\n",
       "    }\n",
       "</style>\n",
       "<table border=\"1\" class=\"dataframe\">\n",
       "  <thead>\n",
       "    <tr style=\"text-align: right;\">\n",
       "      <th></th>\n",
       "      <th>Open</th>\n",
       "      <th>High</th>\n",
       "      <th>Low</th>\n",
       "      <th>Close</th>\n",
       "      <th>Adj Close</th>\n",
       "      <th>Volume</th>\n",
       "    </tr>\n",
       "    <tr>\n",
       "      <th>Date</th>\n",
       "      <th></th>\n",
       "      <th></th>\n",
       "      <th></th>\n",
       "      <th></th>\n",
       "      <th></th>\n",
       "      <th></th>\n",
       "    </tr>\n",
       "  </thead>\n",
       "  <tbody>\n",
       "    <tr>\n",
       "      <th>2023-01-03</th>\n",
       "      <td>89.830002</td>\n",
       "      <td>91.550003</td>\n",
       "      <td>89.019997</td>\n",
       "      <td>89.699997</td>\n",
       "      <td>89.598038</td>\n",
       "      <td>20738500</td>\n",
       "    </tr>\n",
       "    <tr>\n",
       "      <th>2023-01-04</th>\n",
       "      <td>91.010002</td>\n",
       "      <td>91.239998</td>\n",
       "      <td>87.800003</td>\n",
       "      <td>88.709999</td>\n",
       "      <td>88.609169</td>\n",
       "      <td>27046500</td>\n",
       "    </tr>\n",
       "    <tr>\n",
       "      <th>2023-01-05</th>\n",
       "      <td>88.070000</td>\n",
       "      <td>88.209999</td>\n",
       "      <td>86.559998</td>\n",
       "      <td>86.769997</td>\n",
       "      <td>86.671371</td>\n",
       "      <td>23136100</td>\n",
       "    </tr>\n",
       "    <tr>\n",
       "      <th>2023-01-06</th>\n",
       "      <td>87.360001</td>\n",
       "      <td>88.470001</td>\n",
       "      <td>85.570000</td>\n",
       "      <td>88.160004</td>\n",
       "      <td>88.059799</td>\n",
       "      <td>26612600</td>\n",
       "    </tr>\n",
       "    <tr>\n",
       "      <th>2023-01-09</th>\n",
       "      <td>89.195000</td>\n",
       "      <td>90.830002</td>\n",
       "      <td>88.580002</td>\n",
       "      <td>88.800003</td>\n",
       "      <td>88.699066</td>\n",
       "      <td>22996700</td>\n",
       "    </tr>\n",
       "    <tr>\n",
       "      <th>...</th>\n",
       "      <td>...</td>\n",
       "      <td>...</td>\n",
       "      <td>...</td>\n",
       "      <td>...</td>\n",
       "      <td>...</td>\n",
       "      <td>...</td>\n",
       "    </tr>\n",
       "    <tr>\n",
       "      <th>2024-08-16</th>\n",
       "      <td>163.410004</td>\n",
       "      <td>166.949997</td>\n",
       "      <td>163.080002</td>\n",
       "      <td>164.740005</td>\n",
       "      <td>164.740005</td>\n",
       "      <td>16853100</td>\n",
       "    </tr>\n",
       "    <tr>\n",
       "      <th>2024-08-19</th>\n",
       "      <td>167.000000</td>\n",
       "      <td>168.470001</td>\n",
       "      <td>166.089996</td>\n",
       "      <td>168.399994</td>\n",
       "      <td>168.399994</td>\n",
       "      <td>13100800</td>\n",
       "    </tr>\n",
       "    <tr>\n",
       "      <th>2024-08-20</th>\n",
       "      <td>168.740005</td>\n",
       "      <td>170.410004</td>\n",
       "      <td>168.660004</td>\n",
       "      <td>168.960007</td>\n",
       "      <td>168.960007</td>\n",
       "      <td>12622500</td>\n",
       "    </tr>\n",
       "    <tr>\n",
       "      <th>2024-08-21</th>\n",
       "      <td>166.990005</td>\n",
       "      <td>168.639999</td>\n",
       "      <td>166.570007</td>\n",
       "      <td>167.630005</td>\n",
       "      <td>167.630005</td>\n",
       "      <td>15269600</td>\n",
       "    </tr>\n",
       "    <tr>\n",
       "      <th>2024-08-22</th>\n",
       "      <td>169.039993</td>\n",
       "      <td>169.419998</td>\n",
       "      <td>165.029999</td>\n",
       "      <td>165.490005</td>\n",
       "      <td>165.490005</td>\n",
       "      <td>19123800</td>\n",
       "    </tr>\n",
       "  </tbody>\n",
       "</table>\n",
       "<p>412 rows × 6 columns</p>\n",
       "</div>"
      ],
      "text/plain": [
       "                  Open        High         Low       Close   Adj Close  \\\n",
       "Date                                                                     \n",
       "2023-01-03   89.830002   91.550003   89.019997   89.699997   89.598038   \n",
       "2023-01-04   91.010002   91.239998   87.800003   88.709999   88.609169   \n",
       "2023-01-05   88.070000   88.209999   86.559998   86.769997   86.671371   \n",
       "2023-01-06   87.360001   88.470001   85.570000   88.160004   88.059799   \n",
       "2023-01-09   89.195000   90.830002   88.580002   88.800003   88.699066   \n",
       "...                ...         ...         ...         ...         ...   \n",
       "2024-08-16  163.410004  166.949997  163.080002  164.740005  164.740005   \n",
       "2024-08-19  167.000000  168.470001  166.089996  168.399994  168.399994   \n",
       "2024-08-20  168.740005  170.410004  168.660004  168.960007  168.960007   \n",
       "2024-08-21  166.990005  168.639999  166.570007  167.630005  167.630005   \n",
       "2024-08-22  169.039993  169.419998  165.029999  165.490005  165.490005   \n",
       "\n",
       "              Volume  \n",
       "Date                  \n",
       "2023-01-03  20738500  \n",
       "2023-01-04  27046500  \n",
       "2023-01-05  23136100  \n",
       "2023-01-06  26612600  \n",
       "2023-01-09  22996700  \n",
       "...              ...  \n",
       "2024-08-16  16853100  \n",
       "2024-08-19  13100800  \n",
       "2024-08-20  12622500  \n",
       "2024-08-21  15269600  \n",
       "2024-08-22  19123800  \n",
       "\n",
       "[412 rows x 6 columns]"
      ]
     },
     "execution_count": 37,
     "metadata": {},
     "output_type": "execute_result"
    }
   ],
   "source": [
    "# Downloading live data\n",
    "start = '2023-01-01'\n",
    "end = '2024-08-23'\n",
    "stock = 'GOOG'\n",
    "\n",
    "data = yf.download(stock, start, end)\n",
    "data"
   ]
  },
  {
   "cell_type": "code",
   "execution_count": 38,
   "metadata": {},
   "outputs": [
    {
     "name": "stdout",
     "output_type": "stream",
     "text": [
      "<class 'pandas.core.frame.DataFrame'>\n",
      "DatetimeIndex: 412 entries, 2023-01-03 to 2024-08-22\n",
      "Data columns (total 6 columns):\n",
      " #   Column     Non-Null Count  Dtype  \n",
      "---  ------     --------------  -----  \n",
      " 0   Open       412 non-null    float64\n",
      " 1   High       412 non-null    float64\n",
      " 2   Low        412 non-null    float64\n",
      " 3   Close      412 non-null    float64\n",
      " 4   Adj Close  412 non-null    float64\n",
      " 5   Volume     412 non-null    int64  \n",
      "dtypes: float64(5), int64(1)\n",
      "memory usage: 22.5 KB\n"
     ]
    }
   ],
   "source": [
    "data.info()"
   ]
  },
  {
   "cell_type": "code",
   "execution_count": 39,
   "metadata": {},
   "outputs": [
    {
     "data": {
      "image/png": "[encoded data removed]",
      "text/plain": [
       "<Figure size 432x288 with 1 Axes>"
      ]
     },
     "metadata": {
      "needs_background": "light"
     },
     "output_type": "display_data"
    }
   ],
   "source": [
    "# Converting index to datetime format\n",
    "data.index = pd.to_datetime(data.index)\n",
    "\n",
    "# Plot the data\n",
    "data.plot(y=\"Close\")\n",
    "plt.xticks(rotation=95)\n",
    "plt.title('Close Price History')\n",
    "plt.ylabel('Price')\n",
    "plt.show()"
   ]
  },
  {
   "cell_type": "code",
   "execution_count": 40,
   "metadata": {},
   "outputs": [],
   "source": [
    "# Creating the model\n",
    "model = [LinearRegression(), RandomForestRegressor()]"
   ]
  },
  {
   "cell_type": "code",
   "execution_count": 41,
   "metadata": {},
   "outputs": [
    {
     "name": "stdout",
     "output_type": "stream",
     "text": [
      "The model score for LinearRegression() is:  98.99753961170892\n",
      "The model score for RandomForestRegressor() is:  99.83219315842724\n"
     ]
    }
   ],
   "source": [
    "# Train the model\n",
    "X = data[[\"Open\", \"High\", \"Low\", \"Volume\"]]\n",
    "X = X[:int(len(data)-2)]\n",
    "y = data['Close'].shift(-1)\n",
    "y = y[:int(len(data)-2)]\n",
    "\n",
    "for cls in model:\n",
    "    cls.fit(X, y)\n",
    "\n",
    "    # Testing the model\n",
    "    print('The model score for '+ str(cls)+ ' is: ', cls.score(X,y)*100)"
   ]
  },
  {
   "cell_type": "code",
   "execution_count": 42,
   "metadata": {},
   "outputs": [
    {
     "name": "stdout",
     "output_type": "stream",
     "text": [
      "The LinearRegression() model predicts the last day price to be:  [167.86385562]\n",
      "The RandomForestRegressor() model predicts the last day price to be:  [167.34100204]\n",
      "The actual last day price is:  165.49000549316406\n"
     ]
    }
   ],
   "source": [
    "# making precdictions\n",
    "new_data = data[[\"Open\", \"High\", \"Low\", \"Volume\"]].tail(2)[0:1]\n",
    "for cls in model:\n",
    "    prediction = cls.predict(new_data)\n",
    "\n",
    "    print('The ' + str(cls) + ' model predicts the last day price to be: ', prediction)\n",
    "\n",
    "print('The actual last day price is: ', data[['Close']].tail(1).values[0][0])"
   ]
  }
 ],
 "metadata": {
  "kernelspec": {
   "display_name": "Python 3",
   "language": "python",
   "name": "python3"
  },
  "language_info": {
   "codemirror_mode": {
    "name": "ipython",
    "version": 3
   },
   "file_extension": ".py",
   "mimetype": "text/x-python",
   "name": "python",
   "nbconvert_exporter": "python",
   "pygments_lexer": "ipython3",
   "version": "3.8.8"
  }
 },
 "nbformat": 4,
 "nbformat_minor": 2
}
